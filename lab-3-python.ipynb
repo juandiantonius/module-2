{
 "cells": [
  {
   "cell_type": "markdown",
   "metadata": {},
   "source": [
    "# Lab 3 - Basic Python & Pandas Exercises"
   ]
  },
  {
   "cell_type": "code",
   "execution_count": 3,
   "metadata": {},
   "outputs": [
    {
     "name": "stdout",
     "output_type": "stream",
     "text": [
      "1.1.4\n"
     ]
    }
   ],
   "source": [
    "# Import Python library: Panda\n",
    "import pandas as pd\n",
    "print(pd.__version__)"
   ]
  },
  {
   "cell_type": "code",
   "execution_count": 4,
   "metadata": {},
   "outputs": [
    {
     "name": "stdout",
     "output_type": "stream",
     "text": [
      "0    2\n",
      "1    4\n",
      "2    5\n",
      "3    6\n",
      "4    9\n",
      "dtype: int64\n"
     ]
    }
   ],
   "source": [
    "# List-to-Series Conversion\n",
    "\n",
    "given_list = [2, 4, 5, 6, 9]\n",
    "\n",
    "series = pd.Series(given_list)\n",
    "\n",
    "print(series)"
   ]
  },
  {
   "cell_type": "code",
   "execution_count": 5,
   "metadata": {},
   "outputs": [
    {
     "name": "stdout",
     "output_type": "stream",
     "text": [
      "DatetimeIndex(['2021-05-01', '2021-05-02', '2021-05-03', '2021-05-04',\n",
      "               '2021-05-05', '2021-05-06', '2021-05-07', '2021-05-08',\n",
      "               '2021-05-09', '2021-05-10', '2021-05-11', '2021-05-12'],\n",
      "              dtype='datetime64[ns]', freq='D')\n"
     ]
    }
   ],
   "source": [
    "# Date Series Generation\n",
    "\n",
    "date_series = pd.date_range(start = '05-01-2021', end = '05-12-2021')\n",
    "\n",
    "print(date_series)"
   ]
  },
  {
   "cell_type": "code",
   "execution_count": 6,
   "metadata": {},
   "outputs": [
    {
     "name": "stdout",
     "output_type": "stream",
     "text": [
      "0     2\n",
      "1     4\n",
      "2     6\n",
      "3     8\n",
      "4    10\n",
      "dtype: int64\n",
      "\n",
      "0    1.0\n",
      "1    2.0\n",
      "2    3.0\n",
      "3    4.0\n",
      "4    5.0\n",
      "dtype: float64\n"
     ]
    }
   ],
   "source": [
    "# Loop to implement a function on each and every element of a series\n",
    "\n",
    "series = pd.Series([2, 4, 6, 8, 10])\n",
    "\n",
    "print(series) # pandas series initially\n",
    "\n",
    "print()\n",
    "\n",
    "modified_series = series.apply(lambda x:x/2)\n",
    "\n",
    "print(modified_series) # pandas series after function application"
   ]
  },
  {
   "cell_type": "code",
   "execution_count": 7,
   "metadata": {},
   "outputs": [
    {
     "name": "stdout",
     "output_type": "stream",
     "text": [
      "     name  age         occ\n",
      "0   Vinay   22    engineer\n",
      "1  Kushal   25      doctor\n",
      "2    Aman   24  accountant\n"
     ]
    }
   ],
   "source": [
    "# Dictionary-to-DataFrame Conversion\n",
    "dictionary = {'name': ['Vinay', 'Kushal', 'Aman'],\n",
    "              'age' : [22, 25, 24],\n",
    "              'occ' : ['engineer', 'doctor', 'accountant']}\n",
    "\n",
    "dataframe = pd.DataFrame(dictionary)\n",
    "\n",
    "print(dataframe)"
   ]
  },
  {
   "cell_type": "code",
   "execution_count": 8,
   "metadata": {},
   "outputs": [
    {
     "name": "stdout",
     "output_type": "stream",
     "text": [
      "   id    name  age\n",
      "0   2  Vishal   22\n",
      "1   1  Kushal   25\n",
      "2   1    Aman   24\n"
     ]
    }
   ],
   "source": [
    "# 2D List-to-DataFrame Conversion\n",
    "\n",
    "lists = [[2, 'Vishal', 22],\n",
    "         [1, 'Kushal', 25],\n",
    "         [1, 'Aman', 24]]\n",
    "\n",
    "dataframe = pd.DataFrame(lists, columns = ['id', 'name', 'age'])\n",
    "\n",
    "print(dataframe)"
   ]
  },
  {
   "cell_type": "code",
   "execution_count": 9,
   "metadata": {},
   "outputs": [],
   "source": [
    "# Reading a CSV file to dataframe\n",
    "\n",
    "# View Shape\n",
    "\n",
    "# View Column Types\n",
    "\n",
    "# \n"
   ]
  },
  {
   "cell_type": "code",
   "execution_count": null,
   "metadata": {},
   "outputs": [],
   "source": []
  },
  {
   "cell_type": "markdown",
   "metadata": {},
   "source": [
    "Simple Exploratory Data Analysis"
   ]
  },
  {
   "cell_type": "code",
   "execution_count": null,
   "metadata": {},
   "outputs": [],
   "source": [
    "# Pandas profiling\n",
    "\n",
    "import pandas_profiling as pp\n",
    "\n",
    "pp.ProfileReport(df)"
   ]
  },
  {
   "cell_type": "code",
   "execution_count": null,
   "metadata": {},
   "outputs": [],
   "source": [
    "# Simple visualizations\n",
    "\n",
    "import matplotlib.pyplot as plt\n",
    "\n"
   ]
  }
 ],
 "metadata": {
  "interpreter": {
   "hash": "fcdc9884b9cd5382dbef5ec36d11632fc91a9e74fe249e97f9ed59fbd73c768d"
  },
  "kernelspec": {
   "display_name": "Python 3",
   "language": "python",
   "name": "python3"
  },
  "language_info": {
   "codemirror_mode": {
    "name": "ipython",
    "version": 3
   },
   "file_extension": ".py",
   "mimetype": "text/x-python",
   "name": "python",
   "nbconvert_exporter": "python",
   "pygments_lexer": "ipython3",
   "version": "3.8.8"
  }
 },
 "nbformat": 4,
 "nbformat_minor": 4
}
