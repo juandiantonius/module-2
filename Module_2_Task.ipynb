{
 "cells": [
  {
   "cell_type": "markdown",
   "metadata": {},
   "source": [
    "<center><h1>Module 2 Assignment</h1></center>"
   ]
  },
  {
   "cell_type": "markdown",
   "metadata": {},
   "source": [
    "# Choose a dataset\n",
    "\n",
    "Choose a dataset from [NYC Open Data](https://opendata.cityofnewyork.us/) that is available in CSV format (look at the format labels in the list of datasets). Choose one that has at least 2 numerical value columns and 1 string value column. \n",
    "\n",
    "If it's a CSV file you may be able to directly read it with pandas\n",
    "```\n",
    "pd.read_csv(url)\n",
    "```\n",
    "\n",
    "If it is a compressed file (.zip, .gz, etc.), download the zip and unpack it, then read it in with pandas\n",
    "```\n",
    "pd.read_csv(<filename>.csv)\n",
    "```"
   ]
  },
  {
   "cell_type": "code",
   "execution_count": 1,
   "metadata": {},
   "outputs": [],
   "source": [
    "import numpy as np\n",
    "import pandas as pd\n",
    "import seaborn as sns\n",
    "from matplotlib import pyplot as plt"
   ]
  },
  {
   "cell_type": "code",
   "execution_count": 2,
   "metadata": {},
   "outputs": [],
   "source": [
    "data=pd.read_csv(\"DOF__Summary_of_Neighborhood_Sales_by_Neighborhood_Citywide_by_Borough.csv\")"
   ]
  },
  {
   "cell_type": "markdown",
   "metadata": {},
   "source": [
    "## Display top 7 rows of the dataframe in your notebook"
   ]
  },
  {
   "cell_type": "code",
   "execution_count": 3,
   "metadata": {},
   "outputs": [
    {
     "name": "stdout",
     "output_type": "stream",
     "text": [
      "top 7 rows of the dataframe\n"
     ]
    },
    {
     "data": {
      "text/html": [
       "<div>\n",
       "<style scoped>\n",
       "    .dataframe tbody tr th:only-of-type {\n",
       "        vertical-align: middle;\n",
       "    }\n",
       "\n",
       "    .dataframe tbody tr th {\n",
       "        vertical-align: top;\n",
       "    }\n",
       "\n",
       "    .dataframe thead th {\n",
       "        text-align: right;\n",
       "    }\n",
       "</style>\n",
       "<table border=\"1\" class=\"dataframe\">\n",
       "  <thead>\n",
       "    <tr style=\"text-align: right;\">\n",
       "      <th></th>\n",
       "      <th>BOROUGH</th>\n",
       "      <th>NEIGHBORHOOD</th>\n",
       "      <th>TYPE OF HOME</th>\n",
       "      <th>NUMBER OF SALES</th>\n",
       "      <th>LOWEST SALE PRICE</th>\n",
       "      <th>AVERAGE SALE PRICE</th>\n",
       "      <th>MEDIAN SALE PRICE</th>\n",
       "      <th>HIGHEST SALE PRICE</th>\n",
       "      <th>YEAR</th>\n",
       "    </tr>\n",
       "  </thead>\n",
       "  <tbody>\n",
       "    <tr>\n",
       "      <th>0</th>\n",
       "      <td>MANHATTAN</td>\n",
       "      <td>ALPHABET CITY</td>\n",
       "      <td>01 ONE FAMILY HOMES</td>\n",
       "      <td>1</td>\n",
       "      <td>593362</td>\n",
       "      <td>593362</td>\n",
       "      <td>593362</td>\n",
       "      <td>593362</td>\n",
       "      <td>2010</td>\n",
       "    </tr>\n",
       "    <tr>\n",
       "      <th>1</th>\n",
       "      <td>MANHATTAN</td>\n",
       "      <td>ALPHABET CITY</td>\n",
       "      <td>02 TWO FAMILY HOMES</td>\n",
       "      <td>1</td>\n",
       "      <td>1320000</td>\n",
       "      <td>1320000</td>\n",
       "      <td>1320000</td>\n",
       "      <td>1320000</td>\n",
       "      <td>2010</td>\n",
       "    </tr>\n",
       "    <tr>\n",
       "      <th>2</th>\n",
       "      <td>MANHATTAN</td>\n",
       "      <td>ALPHABET CITY</td>\n",
       "      <td>03 THREE FAMILY HOMES</td>\n",
       "      <td>1</td>\n",
       "      <td>900000</td>\n",
       "      <td>900000</td>\n",
       "      <td>900000</td>\n",
       "      <td>900000</td>\n",
       "      <td>2010</td>\n",
       "    </tr>\n",
       "    <tr>\n",
       "      <th>3</th>\n",
       "      <td>MANHATTAN</td>\n",
       "      <td>CHELSEA</td>\n",
       "      <td>01 ONE FAMILY HOMES</td>\n",
       "      <td>2</td>\n",
       "      <td>500000</td>\n",
       "      <td>2875000</td>\n",
       "      <td>2875000</td>\n",
       "      <td>5250000</td>\n",
       "      <td>2010</td>\n",
       "    </tr>\n",
       "    <tr>\n",
       "      <th>4</th>\n",
       "      <td>MANHATTAN</td>\n",
       "      <td>CHELSEA</td>\n",
       "      <td>02 TWO FAMILY HOMES</td>\n",
       "      <td>2</td>\n",
       "      <td>1306213</td>\n",
       "      <td>2603107</td>\n",
       "      <td>2603107</td>\n",
       "      <td>3900000</td>\n",
       "      <td>2010</td>\n",
       "    </tr>\n",
       "    <tr>\n",
       "      <th>5</th>\n",
       "      <td>MANHATTAN</td>\n",
       "      <td>CHELSEA</td>\n",
       "      <td>03 THREE FAMILY HOMES</td>\n",
       "      <td>1</td>\n",
       "      <td>6400000</td>\n",
       "      <td>6400000</td>\n",
       "      <td>6400000</td>\n",
       "      <td>6400000</td>\n",
       "      <td>2010</td>\n",
       "    </tr>\n",
       "    <tr>\n",
       "      <th>6</th>\n",
       "      <td>MANHATTAN</td>\n",
       "      <td>CLINTON</td>\n",
       "      <td>01 ONE FAMILY HOMES</td>\n",
       "      <td>1</td>\n",
       "      <td>3850000</td>\n",
       "      <td>3850000</td>\n",
       "      <td>3850000</td>\n",
       "      <td>3850000</td>\n",
       "      <td>2010</td>\n",
       "    </tr>\n",
       "  </tbody>\n",
       "</table>\n",
       "</div>"
      ],
      "text/plain": [
       "     BOROUGH   NEIGHBORHOOD           TYPE OF HOME  NUMBER OF SALES  \\\n",
       "0  MANHATTAN  ALPHABET CITY    01 ONE FAMILY HOMES                1   \n",
       "1  MANHATTAN  ALPHABET CITY    02 TWO FAMILY HOMES                1   \n",
       "2  MANHATTAN  ALPHABET CITY  03 THREE FAMILY HOMES                1   \n",
       "3  MANHATTAN        CHELSEA    01 ONE FAMILY HOMES                2   \n",
       "4  MANHATTAN        CHELSEA    02 TWO FAMILY HOMES                2   \n",
       "5  MANHATTAN        CHELSEA  03 THREE FAMILY HOMES                1   \n",
       "6  MANHATTAN        CLINTON    01 ONE FAMILY HOMES                1   \n",
       "\n",
       "   LOWEST SALE PRICE  AVERAGE SALE PRICE  MEDIAN SALE PRICE  \\\n",
       "0             593362              593362             593362   \n",
       "1            1320000             1320000            1320000   \n",
       "2             900000              900000             900000   \n",
       "3             500000             2875000            2875000   \n",
       "4            1306213             2603107            2603107   \n",
       "5            6400000             6400000            6400000   \n",
       "6            3850000             3850000            3850000   \n",
       "\n",
       "   HIGHEST SALE PRICE  YEAR  \n",
       "0              593362  2010  \n",
       "1             1320000  2010  \n",
       "2              900000  2010  \n",
       "3             5250000  2010  \n",
       "4             3900000  2010  \n",
       "5             6400000  2010  \n",
       "6             3850000  2010  "
      ]
     },
     "metadata": {},
     "output_type": "display_data"
    }
   ],
   "source": [
    "result = data.head(7)\n",
    "print(\"top 7 rows of the dataframe\")\n",
    "display(result) # Disini menggunakan display agar tabelnya rapi, kalau menggunakan print(result) kurang rapi"
   ]
  },
  {
   "cell_type": "markdown",
   "metadata": {},
   "source": [
    "## Count number of null values (if any) for each column"
   ]
  },
  {
   "cell_type": "code",
   "execution_count": 4,
   "metadata": {},
   "outputs": [
    {
     "data": {
      "text/plain": [
       "BOROUGH               0\n",
       "NEIGHBORHOOD          1\n",
       "TYPE OF HOME          0\n",
       "NUMBER OF SALES       0\n",
       "LOWEST SALE PRICE     0\n",
       "AVERAGE SALE PRICE    0\n",
       "MEDIAN SALE PRICE     0\n",
       "HIGHEST SALE PRICE    0\n",
       "YEAR                  0\n",
       "dtype: int64"
      ]
     },
     "execution_count": 4,
     "metadata": {},
     "output_type": "execute_result"
    }
   ],
   "source": [
    "data.isna().sum()"
   ]
  },
  {
   "cell_type": "markdown",
   "metadata": {},
   "source": [
    "## Remove all but 2 numerical values columns of your choice and display the reducted dataframe."
   ]
  },
  {
   "cell_type": "code",
   "execution_count": 5,
   "metadata": {},
   "outputs": [
    {
     "data": {
      "text/html": [
       "<div>\n",
       "<style scoped>\n",
       "    .dataframe tbody tr th:only-of-type {\n",
       "        vertical-align: middle;\n",
       "    }\n",
       "\n",
       "    .dataframe tbody tr th {\n",
       "        vertical-align: top;\n",
       "    }\n",
       "\n",
       "    .dataframe thead th {\n",
       "        text-align: right;\n",
       "    }\n",
       "</style>\n",
       "<table border=\"1\" class=\"dataframe\">\n",
       "  <thead>\n",
       "    <tr style=\"text-align: right;\">\n",
       "      <th></th>\n",
       "      <th>TYPE OF HOME</th>\n",
       "      <th>NUMBER OF SALES</th>\n",
       "      <th>AVERAGE SALE PRICE</th>\n",
       "    </tr>\n",
       "  </thead>\n",
       "  <tbody>\n",
       "    <tr>\n",
       "      <th>0</th>\n",
       "      <td>01 ONE FAMILY HOMES</td>\n",
       "      <td>1</td>\n",
       "      <td>593362</td>\n",
       "    </tr>\n",
       "    <tr>\n",
       "      <th>1</th>\n",
       "      <td>02 TWO FAMILY HOMES</td>\n",
       "      <td>1</td>\n",
       "      <td>1320000</td>\n",
       "    </tr>\n",
       "    <tr>\n",
       "      <th>2</th>\n",
       "      <td>03 THREE FAMILY HOMES</td>\n",
       "      <td>1</td>\n",
       "      <td>900000</td>\n",
       "    </tr>\n",
       "    <tr>\n",
       "      <th>3</th>\n",
       "      <td>01 ONE FAMILY HOMES</td>\n",
       "      <td>2</td>\n",
       "      <td>2875000</td>\n",
       "    </tr>\n",
       "    <tr>\n",
       "      <th>4</th>\n",
       "      <td>02 TWO FAMILY HOMES</td>\n",
       "      <td>2</td>\n",
       "      <td>2603107</td>\n",
       "    </tr>\n",
       "    <tr>\n",
       "      <th>...</th>\n",
       "      <td>...</td>\n",
       "      <td>...</td>\n",
       "      <td>...</td>\n",
       "    </tr>\n",
       "    <tr>\n",
       "      <th>6560</th>\n",
       "      <td>01 ONE FAMILY DWELLINGS</td>\n",
       "      <td>74</td>\n",
       "      <td>598064</td>\n",
       "    </tr>\n",
       "    <tr>\n",
       "      <th>6561</th>\n",
       "      <td>02 TWO FAMILY DWELLINGS</td>\n",
       "      <td>23</td>\n",
       "      <td>662768</td>\n",
       "    </tr>\n",
       "    <tr>\n",
       "      <th>6562</th>\n",
       "      <td>01 ONE FAMILY DWELLINGS</td>\n",
       "      <td>69</td>\n",
       "      <td>582575</td>\n",
       "    </tr>\n",
       "    <tr>\n",
       "      <th>6563</th>\n",
       "      <td>02 TWO FAMILY DWELLINGS</td>\n",
       "      <td>46</td>\n",
       "      <td>745061</td>\n",
       "    </tr>\n",
       "    <tr>\n",
       "      <th>6564</th>\n",
       "      <td>01 ONE FAMILY DWELLINGS</td>\n",
       "      <td>61</td>\n",
       "      <td>712061</td>\n",
       "    </tr>\n",
       "  </tbody>\n",
       "</table>\n",
       "<p>6565 rows × 3 columns</p>\n",
       "</div>"
      ],
      "text/plain": [
       "                 TYPE OF HOME  NUMBER OF SALES  AVERAGE SALE PRICE\n",
       "0         01 ONE FAMILY HOMES                1              593362\n",
       "1         02 TWO FAMILY HOMES                1             1320000\n",
       "2       03 THREE FAMILY HOMES                1              900000\n",
       "3         01 ONE FAMILY HOMES                2             2875000\n",
       "4         02 TWO FAMILY HOMES                2             2603107\n",
       "...                       ...              ...                 ...\n",
       "6560  01 ONE FAMILY DWELLINGS               74              598064\n",
       "6561  02 TWO FAMILY DWELLINGS               23              662768\n",
       "6562  01 ONE FAMILY DWELLINGS               69              582575\n",
       "6563  02 TWO FAMILY DWELLINGS               46              745061\n",
       "6564  01 ONE FAMILY DWELLINGS               61              712061\n",
       "\n",
       "[6565 rows x 3 columns]"
      ]
     },
     "metadata": {},
     "output_type": "display_data"
    }
   ],
   "source": [
    "data.columns\n",
    "remove=data.drop([data.columns[0], data.columns[1], data.columns[4], data.columns[6], data.columns[7], data.columns[8]], axis=1)\n",
    "display(remove) # Disini menggunakan display agar tabelnya rapi, kalau menggunakan print(result) kurang rapi"
   ]
  },
  {
   "cell_type": "markdown",
   "metadata": {},
   "source": [
    "## Display the average, median, and standard deviation of each of your numerical columns"
   ]
  },
  {
   "cell_type": "code",
   "execution_count": 6,
   "metadata": {},
   "outputs": [
    {
     "data": {
      "text/html": [
       "<div>\n",
       "<style scoped>\n",
       "    .dataframe tbody tr th:only-of-type {\n",
       "        vertical-align: middle;\n",
       "    }\n",
       "\n",
       "    .dataframe tbody tr th {\n",
       "        vertical-align: top;\n",
       "    }\n",
       "\n",
       "    .dataframe thead th {\n",
       "        text-align: right;\n",
       "    }\n",
       "</style>\n",
       "<table border=\"1\" class=\"dataframe\">\n",
       "  <thead>\n",
       "    <tr style=\"text-align: right;\">\n",
       "      <th></th>\n",
       "      <th>NUMBER OF SALES</th>\n",
       "      <th>AVERAGE SALE PRICE</th>\n",
       "    </tr>\n",
       "  </thead>\n",
       "  <tbody>\n",
       "    <tr>\n",
       "      <th>mean</th>\n",
       "      <td>35.184615</td>\n",
       "      <td>1.230842e+06</td>\n",
       "    </tr>\n",
       "    <tr>\n",
       "      <th>std</th>\n",
       "      <td>50.179313</td>\n",
       "      <td>1.995127e+06</td>\n",
       "    </tr>\n",
       "    <tr>\n",
       "      <th>50%</th>\n",
       "      <td>16.000000</td>\n",
       "      <td>6.429380e+05</td>\n",
       "    </tr>\n",
       "  </tbody>\n",
       "</table>\n",
       "</div>"
      ],
      "text/plain": [
       "      NUMBER OF SALES  AVERAGE SALE PRICE\n",
       "mean        35.184615        1.230842e+06\n",
       "std         50.179313        1.995127e+06\n",
       "50%         16.000000        6.429380e+05"
      ]
     },
     "execution_count": 6,
     "metadata": {},
     "output_type": "execute_result"
    }
   ],
   "source": [
    "remove.describe().loc[['mean', 'std', '50%']]"
   ]
  },
  {
   "cell_type": "markdown",
   "metadata": {},
   "source": [
    "## Plot two of the numerical columns one against the other in a scatter plot"
   ]
  },
  {
   "cell_type": "code",
   "execution_count": 7,
   "metadata": {},
   "outputs": [
    {
     "data": {
      "image/png": "[encoded data removed]",
      "text/plain": [
       "<Figure size 432x288 with 1 Axes>"
      ]
     },
     "metadata": {
      "needs_background": "light"
     },
     "output_type": "display_data"
    }
   ],
   "source": [
    "#scatter plot untuk NUMBER OF SALES vs AVERAGE SALES PRICE\n",
    "sns.scatterplot(x='NUMBER OF SALES', y='AVERAGE SALE PRICE', data=remove);"
   ]
  },
  {
   "cell_type": "markdown",
   "metadata": {},
   "source": [
    "## Plot your data distributions in histogram and boxplot"
   ]
  },
  {
   "cell_type": "code",
   "execution_count": 8,
   "metadata": {},
   "outputs": [
    {
     "data": {
      "image/png": "[encoded data removed]",
      "text/plain": [
       "<Figure size 432x288 with 1 Axes>"
      ]
     },
     "metadata": {
      "needs_background": "light"
     },
     "output_type": "display_data"
    }
   ],
   "source": [
    "#Histogram untuk NUMBER OF SALES\n",
    "sns.histplot(data=remove, x=\"NUMBER OF SALES\");"
   ]
  },
  {
   "cell_type": "code",
   "execution_count": 9,
   "metadata": {},
   "outputs": [
    {
     "data": {
      "image/png": "[encoded data removed]",
      "text/plain": [
       "<Figure size 432x288 with 1 Axes>"
      ]
     },
     "metadata": {
      "needs_background": "light"
     },
     "output_type": "display_data"
    }
   ],
   "source": [
    "#Histogram untuk AVERAGE SALE PRICE\n",
    "sns.histplot(data=remove, x=\"AVERAGE SALE PRICE\");"
   ]
  },
  {
   "cell_type": "code",
   "execution_count": 10,
   "metadata": {},
   "outputs": [
    {
     "data": {
      "image/png": "[encoded data removed]",
      "text/plain": [
       "<Figure size 432x288 with 1 Axes>"
      ]
     },
     "metadata": {
      "needs_background": "light"
     },
     "output_type": "display_data"
    }
   ],
   "source": [
    "#Boxplot untuk NUMBER OF SALES\n",
    "sns.boxplot(x='TYPE OF HOME', y='NUMBER OF SALES', data=remove);"
   ]
  },
  {
   "cell_type": "code",
   "execution_count": 11,
   "metadata": {},
   "outputs": [
    {
     "data": {
      "image/png": "[encoded data removed]",
      "text/plain": [
       "<Figure size 432x288 with 1 Axes>"
      ]
     },
     "metadata": {
      "needs_background": "light"
     },
     "output_type": "display_data"
    }
   ],
   "source": [
    "#Boxplot untuk AVERAGE SALE PRICE\n",
    "sns.boxplot(x='TYPE OF HOME', y='AVERAGE SALE PRICE', data=remove);"
   ]
  },
  {
   "cell_type": "markdown",
   "metadata": {},
   "source": [
    "## Create a new column in the same dataframe that is raised power of two of an existing column\n",
    "Example:\n",
    "![power_of_two](images/ex1.jpeg)\n"
   ]
  },
  {
   "cell_type": "code",
   "execution_count": 14,
   "metadata": {},
   "outputs": [
    {
     "data": {
      "text/html": [
       "<div>\n",
       "<style scoped>\n",
       "    .dataframe tbody tr th:only-of-type {\n",
       "        vertical-align: middle;\n",
       "    }\n",
       "\n",
       "    .dataframe tbody tr th {\n",
       "        vertical-align: top;\n",
       "    }\n",
       "\n",
       "    .dataframe thead th {\n",
       "        text-align: right;\n",
       "    }\n",
       "</style>\n",
       "<table border=\"1\" class=\"dataframe\">\n",
       "  <thead>\n",
       "    <tr style=\"text-align: right;\">\n",
       "      <th></th>\n",
       "      <th>TYPE OF HOME</th>\n",
       "      <th>NUMBER OF SALES</th>\n",
       "      <th>AVERAGE SALE PRICE</th>\n",
       "      <th>Raised_power_value</th>\n",
       "    </tr>\n",
       "  </thead>\n",
       "  <tbody>\n",
       "    <tr>\n",
       "      <th>0</th>\n",
       "      <td>01 ONE FAMILY HOMES</td>\n",
       "      <td>1</td>\n",
       "      <td>593362</td>\n",
       "      <td>352078463044</td>\n",
       "    </tr>\n",
       "    <tr>\n",
       "      <th>1</th>\n",
       "      <td>02 TWO FAMILY HOMES</td>\n",
       "      <td>1</td>\n",
       "      <td>1320000</td>\n",
       "      <td>1742400000000</td>\n",
       "    </tr>\n",
       "    <tr>\n",
       "      <th>2</th>\n",
       "      <td>03 THREE FAMILY HOMES</td>\n",
       "      <td>1</td>\n",
       "      <td>900000</td>\n",
       "      <td>810000000000</td>\n",
       "    </tr>\n",
       "    <tr>\n",
       "      <th>3</th>\n",
       "      <td>01 ONE FAMILY HOMES</td>\n",
       "      <td>2</td>\n",
       "      <td>2875000</td>\n",
       "      <td>8265625000000</td>\n",
       "    </tr>\n",
       "    <tr>\n",
       "      <th>4</th>\n",
       "      <td>02 TWO FAMILY HOMES</td>\n",
       "      <td>2</td>\n",
       "      <td>2603107</td>\n",
       "      <td>6776166053449</td>\n",
       "    </tr>\n",
       "    <tr>\n",
       "      <th>...</th>\n",
       "      <td>...</td>\n",
       "      <td>...</td>\n",
       "      <td>...</td>\n",
       "      <td>...</td>\n",
       "    </tr>\n",
       "    <tr>\n",
       "      <th>6560</th>\n",
       "      <td>01 ONE FAMILY DWELLINGS</td>\n",
       "      <td>74</td>\n",
       "      <td>598064</td>\n",
       "      <td>357680548096</td>\n",
       "    </tr>\n",
       "    <tr>\n",
       "      <th>6561</th>\n",
       "      <td>02 TWO FAMILY DWELLINGS</td>\n",
       "      <td>23</td>\n",
       "      <td>662768</td>\n",
       "      <td>439261421824</td>\n",
       "    </tr>\n",
       "    <tr>\n",
       "      <th>6562</th>\n",
       "      <td>01 ONE FAMILY DWELLINGS</td>\n",
       "      <td>69</td>\n",
       "      <td>582575</td>\n",
       "      <td>339393630625</td>\n",
       "    </tr>\n",
       "    <tr>\n",
       "      <th>6563</th>\n",
       "      <td>02 TWO FAMILY DWELLINGS</td>\n",
       "      <td>46</td>\n",
       "      <td>745061</td>\n",
       "      <td>555115893721</td>\n",
       "    </tr>\n",
       "    <tr>\n",
       "      <th>6564</th>\n",
       "      <td>01 ONE FAMILY DWELLINGS</td>\n",
       "      <td>61</td>\n",
       "      <td>712061</td>\n",
       "      <td>507030867721</td>\n",
       "    </tr>\n",
       "  </tbody>\n",
       "</table>\n",
       "<p>6565 rows × 4 columns</p>\n",
       "</div>"
      ],
      "text/plain": [
       "                 TYPE OF HOME  NUMBER OF SALES  AVERAGE SALE PRICE  \\\n",
       "0         01 ONE FAMILY HOMES                1              593362   \n",
       "1         02 TWO FAMILY HOMES                1             1320000   \n",
       "2       03 THREE FAMILY HOMES                1              900000   \n",
       "3         01 ONE FAMILY HOMES                2             2875000   \n",
       "4         02 TWO FAMILY HOMES                2             2603107   \n",
       "...                       ...              ...                 ...   \n",
       "6560  01 ONE FAMILY DWELLINGS               74              598064   \n",
       "6561  02 TWO FAMILY DWELLINGS               23              662768   \n",
       "6562  01 ONE FAMILY DWELLINGS               69              582575   \n",
       "6563  02 TWO FAMILY DWELLINGS               46              745061   \n",
       "6564  01 ONE FAMILY DWELLINGS               61              712061   \n",
       "\n",
       "      Raised_power_value  \n",
       "0           352078463044  \n",
       "1          1742400000000  \n",
       "2           810000000000  \n",
       "3          8265625000000  \n",
       "4          6776166053449  \n",
       "...                  ...  \n",
       "6560        357680548096  \n",
       "6561        439261421824  \n",
       "6562        339393630625  \n",
       "6563        555115893721  \n",
       "6564        507030867721  \n",
       "\n",
       "[6565 rows x 4 columns]"
      ]
     },
     "execution_count": 14,
     "metadata": {},
     "output_type": "execute_result"
    }
   ],
   "source": [
    "remove.assign(Raised_power_value=lambda x: x['AVERAGE SALE PRICE']**2)"
   ]
  },
  {
   "cell_type": "markdown",
   "metadata": {},
   "source": [
    "# Citi Bike investigation\n",
    "![citi-bike](images/citibike.jpeg)\n",
    ">Citi Bike is the largest bike share program in the US, with 20,000 bikes and over 1,300 stations across Manhattan, Brooklyn, Queens, the Bronx and Jersey City. It was designed for quick trips with convenience in mind, and it’s a fun and affordable way to get around town."
   ]
  },
  {
   "cell_type": "markdown",
   "metadata": {},
   "source": [
    "## Choose a citibikes dataset (one or two months, earlier datasets are convenient because they are smaller)"
   ]
  },
  {
   "cell_type": "markdown",
   "metadata": {},
   "source": [
    "Example for downloading September 2017 Citibike data:\n",
    "```\n",
    "! month=201709\n",
    "! curl https://s3.amazonaws.com/tripdata/$month-citibike-tripdata.csv.zip >> $month-citibike-tripdata.csv.zip\n",
    "! unzip $month-citibike-tripdata.csv.zip\n",
    "```"
   ]
  },
  {
   "cell_type": "code",
   "execution_count": null,
   "metadata": {},
   "outputs": [],
   "source": []
  },
  {
   "cell_type": "markdown",
   "metadata": {},
   "source": [
    "## What is the average number of trips for each day-of-week?\n",
    "Process the data and plot your answer"
   ]
  },
  {
   "cell_type": "code",
   "execution_count": null,
   "metadata": {},
   "outputs": [],
   "source": []
  },
  {
   "cell_type": "markdown",
   "metadata": {},
   "source": [
    "## What is the average number of trips by hour of day?"
   ]
  },
  {
   "cell_type": "code",
   "execution_count": null,
   "metadata": {},
   "outputs": [],
   "source": []
  },
  {
   "cell_type": "markdown",
   "metadata": {},
   "source": [
    "## What is the correlation between age and trip duration?"
   ]
  },
  {
   "cell_type": "code",
   "execution_count": null,
   "metadata": {},
   "outputs": [],
   "source": []
  },
  {
   "cell_type": "markdown",
   "metadata": {},
   "source": [
    "## What is the average number of daily trips?"
   ]
  },
  {
   "cell_type": "code",
   "execution_count": null,
   "metadata": {},
   "outputs": [],
   "source": []
  },
  {
   "cell_type": "markdown",
   "metadata": {},
   "source": [
    "## Come up with a question on the Citibike data usage and formulate your hypothesis"
   ]
  },
  {
   "cell_type": "markdown",
   "metadata": {},
   "source": [
    "Example: \n",
    "\n",
    "Women are less likely than men to choose biking for commuting.\n",
    "\n",
    "Null Hypothesis: \n",
    "\n",
    "The proportion of men biking on weekends is the same or higher than the proportion of women biking on weekends\n",
    "\n"
   ]
  },
  {
   "cell_type": "code",
   "execution_count": null,
   "metadata": {},
   "outputs": [],
   "source": []
  },
  {
   "cell_type": "markdown",
   "metadata": {},
   "source": [
    "## Work with your dataset and show your findings to help answer your question"
   ]
  },
  {
   "cell_type": "code",
   "execution_count": null,
   "metadata": {},
   "outputs": [],
   "source": []
  }
 ],
 "metadata": {
  "kernelspec": {
   "display_name": "Python 3",
   "language": "python",
   "name": "python3"
  },
  "language_info": {
   "codemirror_mode": {
    "name": "ipython",
    "version": 3
   },
   "file_extension": ".py",
   "mimetype": "text/x-python",
   "name": "python",
   "nbconvert_exporter": "python",
   "pygments_lexer": "ipython3",
   "version": "3.8.8"
  }
 },
 "nbformat": 4,
 "nbformat_minor": 4
}
